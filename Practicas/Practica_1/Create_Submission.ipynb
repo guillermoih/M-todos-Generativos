{
 "cells": [
  {
   "cell_type": "code",
   "execution_count": 15,
   "id": "554d8243",
   "metadata": {
    "ExecuteTime": {
     "end_time": "2025-09-13T12:30:27.358057Z",
     "start_time": "2025-09-13T12:30:27.352584Z"
    }
   },
   "outputs": [],
   "source": [
    "import glob\n",
    "import cv2\n",
    "import numpy as np\n",
    "import pandas as pd\n",
    "\n",
    "# Load images in b&w 64x64 resolution\n",
    "imgs_arr = []\n",
    "for img_path in glob.glob('*.jpg'):\n",
    "    img = cv2.imread(img_path, cv2.IMREAD_GRAYSCALE)\n",
    "    img = cv2.resize(img, (64, 64), interpolation=cv2.INTER_AREA)\n",
    "    imgs_arr.append(img.flatten())\n",
    "df = pd.DataFrame(np.array(imgs_arr))\n",
    "\n",
    "# Add ID column\n",
    "df.insert(0, \"ID\", range(1, len(df) + 1))\n",
    "# Create .csv\n",
    "df.to_csv('submission.csv', index=False)"
   ]
  }
 ],
 "metadata": {
  "kernelspec": {
   "display_name": "Python 3",
   "language": "python",
   "name": "python3"
  },
  "language_info": {
   "codemirror_mode": {
    "name": "ipython",
    "version": 3
   },
   "file_extension": ".py",
   "mimetype": "text/x-python",
   "name": "python",
   "nbconvert_exporter": "python",
   "pygments_lexer": "ipython3",
   "version": "3.8.10"
  },
  "toc": {
   "base_numbering": 1,
   "nav_menu": {},
   "number_sections": false,
   "sideBar": true,
   "skip_h1_title": false,
   "title_cell": "Table of Contents",
   "title_sidebar": "Contents",
   "toc_cell": false,
   "toc_position": {},
   "toc_section_display": true,
   "toc_window_display": false
  }
 },
 "nbformat": 4,
 "nbformat_minor": 5
}
