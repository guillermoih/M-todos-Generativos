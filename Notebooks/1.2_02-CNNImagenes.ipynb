{
 "cells": [
  {
   "cell_type": "markdown",
   "metadata": {
    "id": "ajlSB55Rro99"
   },
   "source": [
    "# Imports"
   ]
  },
  {
   "cell_type": "code",
   "execution_count": null,
   "metadata": {
    "id": "zUT_R0lqrnVN"
   },
   "outputs": [],
   "source": [
    "import numpy as np\n",
    "\n",
    "from matplotlib import pyplot as plt\n",
    "from sklearn.preprocessing import LabelBinarizer\n",
    "\n",
    "from tensorflow.keras.datasets import mnist\n",
    "from tensorflow.keras.models import Model\n",
    "from tensorflow.keras.layers import Input, Dense, Flatten, Conv2D, MaxPooling2D\n",
    "from tensorflow.keras.utils import plot_model\n",
    "from tensorflow.keras.optimizers import Adam"
   ]
  },
  {
   "cell_type": "markdown",
   "metadata": {
    "id": "qHKBJBaXrwxO"
   },
   "source": [
    "# Load dataset"
   ]
  },
  {
   "cell_type": "code",
   "execution_count": null,
   "metadata": {
    "colab": {
     "base_uri": "https://localhost:8080/",
     "height": 156
    },
    "executionInfo": {
     "elapsed": 1196,
     "status": "ok",
     "timestamp": 1726582822426,
     "user": {
      "displayName": "Jorge Dueñas Lerín",
      "userId": "01539912639344379809"
     },
     "user_tz": -120
    },
    "id": "nWBBSYBYrvL2",
    "outputId": "216a708e-5a29-42fc-9fb9-d829d8f6370e"
   },
   "outputs": [],
   "source": [
    "(trainX, trainY), (testX, testY) = mnist.load_data()\n",
    "\n",
    "# Normalizado a [0, 1]\n",
    "trainX = trainX / 255.0\n",
    "testX = testX / 255.0\n",
    "\n",
    "train_labels = trainY\n",
    "test_labels = testY\n",
    "\n",
    "trainY = LabelBinarizer().fit_transform(trainY)\n",
    "testY = LabelBinarizer().fit_transform(testY)\n",
    "\n",
    "# Example of LabelBinarizer\n",
    "# array([5, 0, 4, 1, 9], dtype=uint8)\n",
    "# array([\n",
    "#       [0, 0, 0, 0, 0, 1, 0, 0, 0, 0],\n",
    "#       [1, 0, 0, 0, 0, 0, 0, 0, 0, 0],\n",
    "#       [0, 0, 0, 0, 1, 0, 0, 0, 0, 0],\n",
    "#       [0, 1, 0, 0, 0, 0, 0, 0, 0, 0],\n",
    "#       [0, 0, 0, 0, 0, 0, 0, 0, 0, 1]\n",
    "# ])\n",
    "\n",
    "display(train_labels[:5])\n",
    "display(trainY[:5])"
   ]
  },
  {
   "cell_type": "code",
   "execution_count": null,
   "metadata": {
    "colab": {
     "base_uri": "https://localhost:8080/"
    },
    "executionInfo": {
     "elapsed": 282,
     "status": "ok",
     "timestamp": 1726582915128,
     "user": {
      "displayName": "Jorge Dueñas Lerín",
      "userId": "01539912639344379809"
     },
     "user_tz": -120
    },
    "id": "7ESzm_yiqfd7",
    "outputId": "34ebb479-5587-49b0-fd96-c10f3c13e957"
   },
   "outputs": [],
   "source": [
    "print(\"Train X dataset shape: \", np.shape(trainX))\n",
    "print(\"Train y dataset shape: \", np.shape(trainY))\n",
    "print(\"Test X dataset shape: \", np.shape(testX))\n",
    "print(\"Test y dataset shape: \", np.shape(testY))"
   ]
  },
  {
   "cell_type": "code",
   "execution_count": null,
   "metadata": {
    "id": "DUK4npS2mNnQ"
   },
   "outputs": [],
   "source": [
    "def show_examples(X, y_real, y_pred):\n",
    "    fig, ax = plt.subplots(1, 5, figsize=[25, 5])\n",
    "\n",
    "    for i, img in enumerate(X[:5]):\n",
    "        ax[i].imshow(img, cmap='Greys')\n",
    "        ax[i].set_title('y real: ' + str(y_real[i]) +\n",
    "                        '\\ny predicted: ' + str(y_pred[i]))\n",
    "    plt.show()"
   ]
  },
  {
   "cell_type": "code",
   "execution_count": null,
   "metadata": {
    "colab": {
     "base_uri": "https://localhost:8080/",
     "height": 259
    },
    "executionInfo": {
     "elapsed": 2093,
     "status": "ok",
     "timestamp": 1726583020681,
     "user": {
      "displayName": "Jorge Dueñas Lerín",
      "userId": "01539912639344379809"
     },
     "user_tz": -120
    },
    "id": "43a1LN6vo726",
    "outputId": "96f4b8fd-f72f-406d-a8c2-975c37b0cbe4"
   },
   "outputs": [],
   "source": [
    "show_examples(trainX, train_labels, train_labels)"
   ]
  },
  {
   "cell_type": "markdown",
   "metadata": {
    "id": "ZN0Oe5S-kulZ"
   },
   "source": [
    "# Model definition"
   ]
  },
  {
   "cell_type": "code",
   "execution_count": null,
   "metadata": {
    "id": "JA0gzRxikDeU"
   },
   "outputs": [],
   "source": [
    "def create_classifier():\n",
    "    # Este es un problema sencillo, no utilices muchos filtros.\n",
    "    # Recuerda que MNIST son imágenes de 28x28 píxeles en escala de grises.\n",
    "    # Por tanto, la entrada de la red tendrá forma (28, 28, 1)\n",
    "    \n",
    "    # Haz 2 Conv2d, luego redimensiona/aplana y haz una capa densa (o fc) para clasificar\n",
    "\n",
    "    \"\"\"\n",
    "    Conv2D help: https://www.tensorflow.org/api_docs/python/tf/keras/layers/Conv2D\n",
    "    tf.keras.layers.Conv2D(\n",
    "        filters,\n",
    "        kernel_size,\n",
    "        strides=(1, 1),\n",
    "        padding='valid',\n",
    "        activation=None,\n",
    "        ...\n",
    "    )\"\"\"\n",
    "\n",
    "    # Crea input y output\n",
    "\n",
    "    return Model(input, output)"
   ]
  },
  {
   "cell_type": "code",
   "execution_count": null,
   "metadata": {
    "id": "PSyHKxv-ktzy"
   },
   "outputs": [],
   "source": [
    "model = create_classifier()\n",
    "model.summary()\n",
    "#plot_model(model, show_shapes=True, show_layer_names=False)"
   ]
  },
  {
   "cell_type": "code",
   "execution_count": null,
   "metadata": {
    "id": "bHVmWjpql5i6"
   },
   "outputs": [],
   "source": [
    "model.compile(loss='categorical_crossentropy', metrics=['accuracy'])"
   ]
  },
  {
   "cell_type": "markdown",
   "metadata": {
    "id": "S65WKzIUlIDZ"
   },
   "source": [
    "# Train model"
   ]
  },
  {
   "cell_type": "code",
   "execution_count": null,
   "metadata": {
    "colab": {
     "background_save": true,
     "base_uri": "https://localhost:8080/"
    },
    "id": "qMdV9mRVlFTi",
    "outputId": "558fadb6-795b-4089-860a-bdf3b015e4bc"
   },
   "outputs": [],
   "source": [
    "history = model.fit(trainX, trainY, epochs=20, batch_size=128, validation_data=(testX, testY), verbose=1)"
   ]
  },
  {
   "cell_type": "markdown",
   "metadata": {
    "id": "MwsT1JF1llS8"
   },
   "source": [
    "# Evaluate the model"
   ]
  },
  {
   "cell_type": "code",
   "execution_count": null,
   "metadata": {
    "id": "CDZEAocllU2Y"
   },
   "outputs": [],
   "source": [
    "def plot_losses(history):\n",
    "    plt.rcParams['figure.figsize'] = [20, 5]\n",
    "    f, (ax1, ax2) = plt.subplots(1, 2, sharex=True)\n",
    "\n",
    "    ax1.set_title('Losses')\n",
    "    ax1.set_xlabel('epoch')\n",
    "    ax1.legend(loc=\"upper right\")\n",
    "    ax1.grid()\n",
    "    ax1.plot(history['loss'], label='Training loss')\n",
    "    ax1.plot(history['val_loss'], label='Validation loss')\n",
    "    ax1.legend()\n",
    "\n",
    "    ax2.set_title('Accuracy')\n",
    "    ax2.set_xlabel('epoch')\n",
    "    ax2.legend(loc=\"upper right\")\n",
    "    ax2.grid()\n",
    "    ax2.plot(history['accuracy'], label='Training accuracy')\n",
    "    ax2.plot(history['val_accuracy'], label='Validation accuracy')\n",
    "    ax2.legend()\n",
    "\n",
    "    plt.show()"
   ]
  },
  {
   "cell_type": "code",
   "execution_count": null,
   "metadata": {
    "colab": {
     "base_uri": "https://localhost:8080/",
     "height": 407
    },
    "executionInfo": {
     "elapsed": 649,
     "status": "ok",
     "timestamp": 1726577812198,
     "user": {
      "displayName": "Jorge Dueñas Lerín",
      "userId": "01539912639344379809"
     },
     "user_tz": -120
    },
    "id": "IZ3DGSXtlwrk",
    "outputId": "d6757ab0-0f12-4131-f58a-74e5ab773e09"
   },
   "outputs": [],
   "source": [
    "plot_losses(history.history)"
   ]
  },
  {
   "cell_type": "code",
   "execution_count": null,
   "metadata": {
    "colab": {
     "base_uri": "https://localhost:8080/",
     "height": 277
    },
    "executionInfo": {
     "elapsed": 1353,
     "status": "ok",
     "timestamp": 1726577813549,
     "user": {
      "displayName": "Jorge Dueñas Lerín",
      "userId": "01539912639344379809"
     },
     "user_tz": -120
    },
    "id": "yh7DvW-CriZs",
    "outputId": "3ce5cbc5-416f-418d-8f5e-76a23fd936c8"
   },
   "outputs": [],
   "source": [
    "y_pred = model.predict(testX[:5]).argmax(axis=-1)\n",
    "\n",
    "show_examples(testX[:5], test_labels[:5], y_pred)"
   ]
  },
  {
   "cell_type": "markdown",
   "metadata": {
    "id": "UaneBW10p6JH"
   },
   "source": [
    "---\n",
    "\n",
    "Creado por **Guillermo Iglesias** (guillermo.iglesias@upm.es)\n",
    "\n",
    "<img src=\"https://licensebuttons.net/l/by-nc-sa/3.0/88x31.png\">"
   ]
  }
 ],
 "metadata": {
  "accelerator": "GPU",
  "colab": {
   "provenance": [
    {
     "file_id": "/v2/external/notebooks/gpu.ipynb",
     "timestamp": 1611939535453
    }
   ]
  },
  "gpuClass": "standard",
  "kernelspec": {
   "display_name": "M-todos-Generativos",
   "language": "python",
   "name": "python3"
  },
  "language_info": {
   "codemirror_mode": {
    "name": "ipython",
    "version": 3
   },
   "file_extension": ".py",
   "mimetype": "text/x-python",
   "name": "python",
   "nbconvert_exporter": "python",
   "pygments_lexer": "ipython3",
   "version": "3.12.3"
  }
 },
 "nbformat": 4,
 "nbformat_minor": 0
}
