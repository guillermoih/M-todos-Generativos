{
 "cells": [
  {
   "cell_type": "markdown",
   "metadata": {
    "id": "ajlSB55Rro99"
   },
   "source": [
    "# Imports"
   ]
  },
  {
   "cell_type": "code",
   "execution_count": null,
   "metadata": {
    "id": "zUT_R0lqrnVN"
   },
   "outputs": [],
   "source": [
    "import numpy as np\n",
    "\n",
    "from matplotlib import pyplot as plt\n",
    "from sklearn.preprocessing import LabelBinarizer\n",
    "\n",
    "from tensorflow.keras.datasets import mnist\n",
    "from tensorflow.keras.models import Model\n",
    "from tensorflow.keras.layers import Input, Dense, Flatten\n",
    "from tensorflow.keras.utils import plot_model\n",
    "from tensorflow.keras.optimizers import Adam"
   ]
  },
  {
   "cell_type": "markdown",
   "metadata": {
    "id": "qHKBJBaXrwxO"
   },
   "source": [
    "# Load dataset"
   ]
  },
  {
   "cell_type": "code",
   "execution_count": null,
   "metadata": {
    "colab": {
     "background_save": true,
     "base_uri": "https://localhost:8080/"
    },
    "executionInfo": {
     "elapsed": 12,
     "status": "ok",
     "timestamp": 1666288558568,
     "user": {
      "displayName": "Punto",
      "userId": "10186899819214684786"
     },
     "user_tz": -120
    },
    "id": "nWBBSYBYrvL2",
    "outputId": "821ba2be-ac72-4981-f90c-5f1fa9dad127"
   },
   "outputs": [],
   "source": [
    "(trainX, trainY), (testX, testY) = mnist.load_data()\n",
    "train_labels = LabelBinarizer().fit_transform(trainY)\n",
    "test_labels = LabelBinarizer().fit_transform(testY)\n",
    "# Normalise data in the range [-1, 1]"
   ]
  },
  {
   "cell_type": "code",
   "execution_count": null,
   "metadata": {
    "colab": {
     "background_save": true,
     "base_uri": "https://localhost:8080/"
    },
    "executionInfo": {
     "elapsed": 401,
     "status": "ok",
     "timestamp": 1666288779793,
     "user": {
      "displayName": "Punto",
      "userId": "10186899819214684786"
     },
     "user_tz": -120
    },
    "id": "7ESzm_yiqfd7",
    "outputId": "ea6caf87-5991-465e-e836-2ed130d025b2"
   },
   "outputs": [],
   "source": [
    "print(\"Train X dataset shape: \", np.shape(trainX))\n",
    "print(\"Train y dataset shape: \", np.shape(trainY))\n",
    "print(\"Test X dataset shape: \", np.shape(testX))\n",
    "print(\"Test y dataset shape: \", np.shape(testY))"
   ]
  },
  {
   "cell_type": "code",
   "execution_count": null,
   "metadata": {
    "colab": {
     "background_save": true
    },
    "id": "DUK4npS2mNnQ"
   },
   "outputs": [],
   "source": [
    "def show_examples(X, y_real, y_pred):\n",
    "    fig, ax = plt.subplots(1, 5, figsize=[25, 5])\n",
    "\n",
    "    for i, img in enumerate(X[:5]):\n",
    "        ax[i].imshow(img, cmap='Greys')\n",
    "        ax[i].set_title('y real: ' + str(y_real[i]) +\n",
    "                        '\\ny predicted: ' + str(y_pred[i]))\n",
    "    plt.show()"
   ]
  },
  {
   "cell_type": "code",
   "execution_count": null,
   "metadata": {
    "colab": {
     "background_save": true,
     "base_uri": "https://localhost:8080/",
     "height": 177
    },
    "executionInfo": {
     "elapsed": 856,
     "status": "ok",
     "timestamp": 1666288798135,
     "user": {
      "displayName": "Punto",
      "userId": "10186899819214684786"
     },
     "user_tz": -120
    },
    "id": "43a1LN6vo726",
    "outputId": "a92f8460-894c-40f5-cce8-9a232f9ea1c2"
   },
   "outputs": [],
   "source": [
    "show_examples(trainX, train_labels, train_labels)"
   ]
  },
  {
   "cell_type": "markdown",
   "metadata": {
    "id": "ZN0Oe5S-kulZ"
   },
   "source": [
    "# Model definition\n",
    "\n",
    "- Entrada tupla con la dimensión de la imagen (blanco y negro -> ancho y alto)\n",
    "    - ¿Cómo sería en color?\n",
    "- Convertir en vector: reshape o flatten\n",
    "- Oculta con 32 neuronas\n",
    "- Salida para onehot"
   ]
  },
  {
   "cell_type": "code",
   "execution_count": null,
   "metadata": {
    "colab": {
     "background_save": true
    },
    "id": "JA0gzRxikDeU"
   },
   "outputs": [],
   "source": [
    "def create_classifier():\n",
    "    # Rellena tu modelo aquí\n",
    "    \n",
    "    return Model(input, output)"
   ]
  },
  {
   "cell_type": "code",
   "execution_count": null,
   "metadata": {
    "colab": {
     "background_save": true
    },
    "id": "PSyHKxv-ktzy"
   },
   "outputs": [],
   "source": [
    "model = create_classifier()\n",
    "model.summary()\n",
    "#plot_model(model, show_shapes=True, show_layer_names=False)"
   ]
  },
  {
   "cell_type": "code",
   "execution_count": null,
   "metadata": {
    "colab": {
     "background_save": true
    },
    "id": "bHVmWjpql5i6"
   },
   "outputs": [],
   "source": [
    "model.compile(\n",
    "    # Compila tu modelo aquí\n",
    ")"
   ]
  },
  {
   "cell_type": "markdown",
   "metadata": {
    "id": "S65WKzIUlIDZ"
   },
   "source": [
    "# Train model"
   ]
  },
  {
   "cell_type": "code",
   "execution_count": null,
   "metadata": {
    "id": "qMdV9mRVlFTi"
   },
   "outputs": [],
   "source": [
    "history = model.fit(\n",
    "    # Entrena tu modelo aquí\n",
    ")\n",
    "# Evaluate the model\n",
    "loss, accuracy = model.evaluate(testX, test_labels)"
   ]
  },
  {
   "cell_type": "markdown",
   "metadata": {
    "id": "MwsT1JF1llS8"
   },
   "source": [
    "# Evaluate the model"
   ]
  },
  {
   "cell_type": "code",
   "execution_count": null,
   "metadata": {
    "id": "CDZEAocllU2Y"
   },
   "outputs": [],
   "source": [
    "def plot_losses(history):\n",
    "    plt.rcParams['figure.figsize'] = [20, 5]\n",
    "    f, (ax1, ax2) = plt.subplots(1, 2, sharex=True)\n",
    "\n",
    "    ax1.set_title('Losses')\n",
    "    ax1.set_xlabel('epoch')\n",
    "    ax1.legend(loc=\"upper right\")\n",
    "    ax1.grid()\n",
    "    ax1.plot(history['loss'], label='Training loss')\n",
    "    ax1.plot(history['val_loss'], label='Validation loss')\n",
    "    ax1.legend()\n",
    "\n",
    "    ax2.set_title('Accuracy')\n",
    "    ax2.set_xlabel('epoch')\n",
    "    ax2.legend(loc=\"upper right\")\n",
    "    ax2.grid()\n",
    "    ax2.plot(history['accuracy'], label='Training accuracy')\n",
    "    ax2.plot(history['val_accuracy'], label='Validation accuracy')\n",
    "    ax2.legend()\n",
    "\n",
    "    plt.show()"
   ]
  },
  {
   "cell_type": "code",
   "execution_count": null,
   "metadata": {
    "colab": {
     "base_uri": "https://localhost:8080/"
    },
    "executionInfo": {
     "elapsed": 881,
     "status": "ok",
     "timestamp": 1666289948348,
     "user": {
      "displayName": "Punto",
      "userId": "10186899819214684786"
     },
     "user_tz": -120
    },
    "id": "IZ3DGSXtlwrk",
    "outputId": "401cde44-45f2-4fcb-8493-55173892af7b"
   },
   "outputs": [],
   "source": [
    "plot_losses(history.history)"
   ]
  },
  {
   "cell_type": "code",
   "execution_count": null,
   "metadata": {
    "id": "pTPdhVO3FN-V"
   },
   "outputs": [],
   "source": [
    "# Muestra la originales y algunas predicciones"
   ]
  },
  {
   "cell_type": "markdown",
   "metadata": {
    "id": "UaneBW10p6JH"
   },
   "source": [
    "---\n",
    "\n",
    "Creado por **Guillermo Iglesias** (guillermo.iglesias@upm.es)\n",
    "\n",
    "Modificado por **Jorge Dueñas Lerín** (jorge.duenas.lerin@upm.es)\n",
    "\n",
    "<img src=\"https://licensebuttons.net/l/by-nc-sa/3.0/88x31.png\">"
   ]
  }
 ],
 "metadata": {
  "accelerator": "GPU",
  "colab": {
   "provenance": [
    {
     "file_id": "/v2/external/notebooks/gpu.ipynb",
     "timestamp": 1611939535453
    }
   ]
  },
  "gpuClass": "standard",
  "kernelspec": {
   "display_name": "M-todos-Generativos",
   "language": "python",
   "name": "python3"
  },
  "language_info": {
   "codemirror_mode": {
    "name": "ipython",
    "version": 3
   },
   "file_extension": ".py",
   "mimetype": "text/x-python",
   "name": "python",
   "nbconvert_exporter": "python",
   "pygments_lexer": "ipython3",
   "version": "3.12.3"
  }
 },
 "nbformat": 4,
 "nbformat_minor": 0
}
