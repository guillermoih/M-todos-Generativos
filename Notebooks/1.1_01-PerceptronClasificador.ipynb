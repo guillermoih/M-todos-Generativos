{
 "cells": [
  {
   "cell_type": "markdown",
   "metadata": {
    "id": "LubkIfOlmYHt"
   },
   "source": [
    "Notebook basado en el artículo [Iris Classification using a Keras Neural Network](https://medium.com/@manwill/iris-classification-using-a-keras-neural-network-39d735d11fda)\n"
   ]
  },
  {
   "cell_type": "markdown",
   "metadata": {
    "id": "ajlSB55Rro99"
   },
   "source": [
    "# Imports"
   ]
  },
  {
   "cell_type": "code",
   "execution_count": 1,
   "metadata": {
    "executionInfo": {
     "elapsed": 13172,
     "status": "ok",
     "timestamp": 1727941295746,
     "user": {
      "displayName": "Punto",
      "userId": "10186899819214684786"
     },
     "user_tz": -120
    },
    "id": "zUT_R0lqrnVN"
   },
   "outputs": [],
   "source": [
    "import pandas as pd\n",
    "import numpy as np\n",
    "import matplotlib.pyplot as plt\n",
    "\n",
    "from sklearn.datasets import load_iris\n",
    "from sklearn.model_selection import train_test_split\n",
    "from sklearn.preprocessing import OneHotEncoder\n",
    "\n",
    "from keras.layers import *\n",
    "from keras import Model\n",
    "from tensorflow.keras.models import Sequential\n",
    "from tensorflow.keras.optimizers import Adam\n",
    "from tensorflow.keras.utils import plot_model"
   ]
  },
  {
   "cell_type": "markdown",
   "metadata": {
    "id": "qHKBJBaXrwxO"
   },
   "source": [
    "# Load dataset"
   ]
  },
  {
   "cell_type": "code",
   "execution_count": 2,
   "metadata": {
    "executionInfo": {
     "elapsed": 15,
     "status": "ok",
     "timestamp": 1727941295747,
     "user": {
      "displayName": "Punto",
      "userId": "10186899819214684786"
     },
     "user_tz": -120
    },
    "id": "nWBBSYBYrvL2"
   },
   "outputs": [],
   "source": [
    "df = load_iris()"
   ]
  },
  {
   "cell_type": "code",
   "execution_count": 3,
   "metadata": {
    "colab": {
     "base_uri": "https://localhost:8080/"
    },
    "executionInfo": {
     "elapsed": 14,
     "status": "ok",
     "timestamp": 1727941295747,
     "user": {
      "displayName": "Punto",
      "userId": "10186899819214684786"
     },
     "user_tz": -120
    },
    "id": "2ZNMWjyVntA0",
    "outputId": "b87215dc-3dd3-4827-96e6-acada7cd67c4"
   },
   "outputs": [],
   "source": [
    "df['data']"
   ]
  },
  {
   "cell_type": "code",
   "execution_count": 4,
   "metadata": {
    "colab": {
     "base_uri": "https://localhost:8080/"
    },
    "executionInfo": {
     "elapsed": 11,
     "status": "ok",
     "timestamp": 1727941295747,
     "user": {
      "displayName": "Punto",
      "userId": "10186899819214684786"
     },
     "user_tz": -120
    },
    "id": "pvwcXSbTn9h1",
    "outputId": "cfdc0770-99ed-4417-f325-417c614e8eb3"
   },
   "outputs": [],
   "source": [
    "df['feature_names']"
   ]
  },
  {
   "cell_type": "code",
   "execution_count": 5,
   "metadata": {
    "colab": {
     "base_uri": "https://localhost:8080/"
    },
    "executionInfo": {
     "elapsed": 8,
     "status": "ok",
     "timestamp": 1727941295747,
     "user": {
      "displayName": "Punto",
      "userId": "10186899819214684786"
     },
     "user_tz": -120
    },
    "id": "twcRBrBsnYBe",
    "outputId": "85624630-b0c8-401f-9675-49f98ffd0633"
   },
   "outputs": [],
   "source": [
    "df['target']"
   ]
  },
  {
   "cell_type": "code",
   "execution_count": 6,
   "metadata": {
    "colab": {
     "base_uri": "https://localhost:8080/"
    },
    "executionInfo": {
     "elapsed": 7,
     "status": "ok",
     "timestamp": 1727941295747,
     "user": {
      "displayName": "Punto",
      "userId": "10186899819214684786"
     },
     "user_tz": -120
    },
    "id": "o8LimG2Anxyz",
    "outputId": "fafbac68-6d20-4edf-ac23-63f8e98cafa5"
   },
   "outputs": [],
   "source": [
    "df['target_names']"
   ]
  },
  {
   "cell_type": "markdown",
   "metadata": {
    "id": "ShjGq8X5rt7L"
   },
   "source": [
    "## One-hot encode target data"
   ]
  },
  {
   "cell_type": "code",
   "execution_count": 7,
   "metadata": {
    "executionInfo": {
     "elapsed": 6,
     "status": "ok",
     "timestamp": 1727941295747,
     "user": {
      "displayName": "Punto",
      "userId": "10186899819214684786"
     },
     "user_tz": -120
    },
    "id": "ICn_vWlNr4v8"
   },
   "outputs": [],
   "source": [
    "y = OneHotEncoder().fit_transform(df['target'].reshape(-1, 1)).toarray()"
   ]
  },
  {
   "cell_type": "code",
   "execution_count": 8,
   "metadata": {
    "colab": {
     "base_uri": "https://localhost:8080/"
    },
    "executionInfo": {
     "elapsed": 6,
     "status": "ok",
     "timestamp": 1727941295747,
     "user": {
      "displayName": "Punto",
      "userId": "10186899819214684786"
     },
     "user_tz": -120
    },
    "id": "365tzpjOrg63",
    "outputId": "84e4ef25-61ac-460e-a8af-322f9398bc34"
   },
   "outputs": [],
   "source": [
    "y"
   ]
  },
  {
   "cell_type": "markdown",
   "metadata": {
    "id": "hHC_-tezoNPR"
   },
   "source": [
    "## Split data in train and test"
   ]
  },
  {
   "cell_type": "code",
   "execution_count": 9,
   "metadata": {
    "executionInfo": {
     "elapsed": 5,
     "status": "ok",
     "timestamp": 1727941295747,
     "user": {
      "displayName": "Punto",
      "userId": "10186899819214684786"
     },
     "user_tz": -120
    },
    "id": "Eq4LYvdroMRj"
   },
   "outputs": [],
   "source": [
    "X_train, X_test, y_train, y_test = train_test_split(df['data'], y, test_size=0.2, random_state=42)"
   ]
  },
  {
   "cell_type": "code",
   "execution_count": 10,
   "metadata": {
    "colab": {
     "base_uri": "https://localhost:8080/"
    },
    "executionInfo": {
     "elapsed": 5,
     "status": "ok",
     "timestamp": 1727941295747,
     "user": {
      "displayName": "Punto",
      "userId": "10186899819214684786"
     },
     "user_tz": -120
    },
    "id": "7ESzm_yiqfd7",
    "outputId": "83fc2ae5-7619-466d-eb04-8a0f027e6036"
   },
   "outputs": [],
   "source": [
    "print(\"Train X dataset shape: \", np.shape(X_train))\n",
    "print(\"Train y dataset shape: \", np.shape(y_train))\n",
    "print(\"Test X dataset shape: \", np.shape(X_test))\n",
    "print(\"Test y dataset shape: \", np.shape(y_test))"
   ]
  },
  {
   "cell_type": "markdown",
   "metadata": {
    "id": "ZN0Oe5S-kulZ"
   },
   "source": [
    "# Model definition"
   ]
  },
  {
   "cell_type": "code",
   "execution_count": 11,
   "metadata": {
    "executionInfo": {
     "elapsed": 3,
     "status": "ok",
     "timestamp": 1727941295747,
     "user": {
      "displayName": "Punto",
      "userId": "10186899819214684786"
     },
     "user_tz": -120
    },
    "id": "JA0gzRxikDeU"
   },
   "outputs": [],
   "source": [
    "def create_classifier(input_len, output_len):\n",
    "    # rellenar\n",
    "    input = Input(shape=(input_len, ))\n",
    "    x = Dense(32, activation='relu') (input)\n",
    "    output = Dense(output_len, activation='softmax') (x)\n",
    "    return Model(input, output)"
   ]
  },
  {
   "cell_type": "code",
   "execution_count": 21,
   "metadata": {
    "colab": {
     "base_uri": "https://localhost:8080/",
     "height": 921
    },
    "executionInfo": {
     "elapsed": 389,
     "status": "ok",
     "timestamp": 1727942735813,
     "user": {
      "displayName": "Punto",
      "userId": "10186899819214684786"
     },
     "user_tz": -120
    },
    "id": "PSyHKxv-ktzy",
    "outputId": "5972902d-dedc-4258-a5ca-642414458098"
   },
   "outputs": [],
   "source": [
    "model = create_classifier(len(X_train[0]), len(y_train[0]))\n",
    "model.summary()\n",
    "plot_model(model, show_shapes=True, show_layer_names=False)"
   ]
  },
  {
   "cell_type": "code",
   "execution_count": 13,
   "metadata": {
    "executionInfo": {
     "elapsed": 6,
     "status": "ok",
     "timestamp": 1727941298540,
     "user": {
      "displayName": "Punto",
      "userId": "10186899819214684786"
     },
     "user_tz": -120
    },
    "id": "bHVmWjpql5i6"
   },
   "outputs": [],
   "source": [
    "model.compile(loss='categorical_crossentropy', metrics=['accuracy'], optimizer=Adam())"
   ]
  },
  {
   "cell_type": "markdown",
   "metadata": {
    "id": "S65WKzIUlIDZ"
   },
   "source": [
    "# Train model"
   ]
  },
  {
   "cell_type": "code",
   "execution_count": 14,
   "metadata": {
    "colab": {
     "base_uri": "https://localhost:8080/"
    },
    "executionInfo": {
     "elapsed": 12644,
     "status": "ok",
     "timestamp": 1727941311180,
     "user": {
      "displayName": "Punto",
      "userId": "10186899819214684786"
     },
     "user_tz": -120
    },
    "id": "qMdV9mRVlFTi",
    "outputId": "415f8798-f993-4494-bbd9-12479cc9ad56"
   },
   "outputs": [],
   "source": [
    "history = model.fit(X_train[:], y_train, epochs=20, batch_size=16, validation_data=(X_test, y_test), verbose=1)"
   ]
  },
  {
   "cell_type": "markdown",
   "metadata": {
    "id": "MwsT1JF1llS8"
   },
   "source": [
    "# Evaluate the model"
   ]
  },
  {
   "cell_type": "code",
   "execution_count": 15,
   "metadata": {
    "executionInfo": {
     "elapsed": 2,
     "status": "ok",
     "timestamp": 1727941311180,
     "user": {
      "displayName": "Punto",
      "userId": "10186899819214684786"
     },
     "user_tz": -120
    },
    "id": "CDZEAocllU2Y"
   },
   "outputs": [],
   "source": [
    "def plot_losses(history):\n",
    "    plt.rcParams['figure.figsize'] = [20, 5]\n",
    "    f, (ax1, ax2) = plt.subplots(1, 2, sharex=True)\n",
    "\n",
    "    ax1.set_title('Losses')\n",
    "    ax1.set_xlabel('epoch')\n",
    "    ax1.legend(loc=\"upper right\")\n",
    "    ax1.grid()\n",
    "    ax1.plot(history['loss'], label='Training loss')\n",
    "    ax1.plot(history['val_loss'], label='Validation loss')\n",
    "    ax1.legend()\n",
    "\n",
    "    ax2.set_title('Accuracy')\n",
    "    ax2.set_xlabel('epoch')\n",
    "    ax2.legend(loc=\"upper right\")\n",
    "    ax2.grid()\n",
    "    ax2.plot(history['accuracy'], label='Training accuracy')\n",
    "    ax2.plot(history['val_accuracy'], label='Validation accuracy')\n",
    "    ax2.legend()\n",
    "\n",
    "    plt.show()"
   ]
  },
  {
   "cell_type": "code",
   "execution_count": 16,
   "metadata": {
    "colab": {
     "base_uri": "https://localhost:8080/",
     "height": 286
    },
    "executionInfo": {
     "elapsed": 1032,
     "status": "ok",
     "timestamp": 1727941312211,
     "user": {
      "displayName": "Punto",
      "userId": "10186899819214684786"
     },
     "user_tz": -120
    },
    "id": "IZ3DGSXtlwrk",
    "outputId": "410196ce-a81e-4e20-8ca3-43886ca19225"
   },
   "outputs": [],
   "source": [
    "plot_losses(history.history)"
   ]
  },
  {
   "cell_type": "markdown",
   "metadata": {
    "id": "UaneBW10p6JH"
   },
   "source": [
    "---\n",
    "\n",
    "Creado por **Guillermo Iglesias** (guillermo.iglesias@upm.es)\n",
    "\n",
    "<img src=\"https://licensebuttons.net/l/by-nc-sa/3.0/88x31.png\">"
   ]
  }
 ],
 "metadata": {
  "accelerator": "GPU",
  "colab": {
   "provenance": [
    {
     "file_id": "/v2/external/notebooks/gpu.ipynb",
     "timestamp": 1611939535453
    }
   ]
  },
  "gpuClass": "standard",
  "kernelspec": {
   "display_name": "Python 3",
   "name": "python3"
  }
 },
 "nbformat": 4,
 "nbformat_minor": 0
}
